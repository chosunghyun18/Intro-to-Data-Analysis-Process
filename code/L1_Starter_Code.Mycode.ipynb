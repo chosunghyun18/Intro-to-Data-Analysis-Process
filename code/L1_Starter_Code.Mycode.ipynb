{
 "cells": [
  {
   "cell_type": "markdown",
   "metadata": {},
   "source": [
    "## Load Data from CSVs"
   ]
  },
  {
   "cell_type": "code",
   "execution_count": 14,
   "metadata": {},
   "outputs": [
    {
     "data": {
      "text/plain": [
       "{'account_key': '448',\n",
       " 'status': 'canceled',\n",
       " 'join_date': '2014-11-10',\n",
       " 'cancel_date': '2015-01-14',\n",
       " 'days_to_cancel': '65',\n",
       " 'is_udacity': 'True',\n",
       " 'is_canceled': 'True'}"
      ]
     },
     "execution_count": 14,
     "metadata": {},
     "output_type": "execute_result"
    }
   ],
   "source": [
    "import unicodecsv\n",
    "\n",
    "with open('enrollments.csv','rb') as f:\n",
    "    reader = unicodecsv.DictReader(f)\n",
    "    enrollments = list(reader) \n",
    "    \n",
    "        \n",
    "enrollments[0]"
   ]
  },
  {
   "cell_type": "code",
   "execution_count": 15,
   "metadata": {},
   "outputs": [
    {
     "data": {
      "text/plain": [
       "list"
      ]
     },
     "execution_count": 15,
     "metadata": {},
     "output_type": "execute_result"
    }
   ],
   "source": [
    "type(enrollments)"
   ]
  },
  {
   "cell_type": "code",
   "execution_count": 75,
   "metadata": {},
   "outputs": [
    {
     "data": {
      "text/plain": [
       "{'account_key': '448',\n",
       " 'status': 'canceled',\n",
       " 'join_date': datetime.datetime(2014, 11, 10, 0, 0),\n",
       " 'cancel_date': datetime.datetime(2015, 1, 14, 0, 0),\n",
       " 'days_to_cancel': 65,\n",
       " 'is_udacity': True,\n",
       " 'is_canceled': True}"
      ]
     },
     "execution_count": 75,
     "metadata": {},
     "output_type": "execute_result"
    }
   ],
   "source": [
    "enrollments[0]"
   ]
  },
  {
   "cell_type": "code",
   "execution_count": 17,
   "metadata": {},
   "outputs": [
    {
     "data": {
      "text/plain": [
       "{'acct': '0',\n",
       " 'utc_date': '2015-01-09',\n",
       " 'num_courses_visited': '1.0',\n",
       " 'total_minutes_visited': '11.6793745',\n",
       " 'lessons_completed': '0.0',\n",
       " 'projects_completed': '0.0'}"
      ]
     },
     "execution_count": 17,
     "metadata": {},
     "output_type": "execute_result"
    }
   ],
   "source": [
    "#####################################\n",
    "#                 1                 #\n",
    "#####################################\n",
    "\n",
    "## Read in the data from daily_engagement.csv and project_submissions.csv \n",
    "## and store the results in the below variables.\n",
    "## Then look at the first row of each table.\n",
    "\n",
    "with open('daily_engagement.csv','rb') as f : \n",
    "    reader = unicodecsv.DictReader(f)\n",
    "    daily_engagement = list(reader)\n",
    "\n",
    "daily_engagement[0]\n",
    "\n",
    "\n",
    "#project_submissions = "
   ]
  },
  {
   "cell_type": "code",
   "execution_count": 18,
   "metadata": {},
   "outputs": [
    {
     "data": {
      "text/plain": [
       "{'creation_date': '2015-01-14',\n",
       " 'completion_date': '2015-01-16',\n",
       " 'assigned_rating': 'UNGRADED',\n",
       " 'account_key': '256',\n",
       " 'lesson_key': '3176718735',\n",
       " 'processing_state': 'EVALUATED'}"
      ]
     },
     "execution_count": 18,
     "metadata": {},
     "output_type": "execute_result"
    }
   ],
   "source": [
    "with open('project_submissions.csv','rb') as f : \n",
    "    reader =unicodecsv.DictReader(f)\n",
    "    project_submissions = list(reader)\n",
    "\n",
    "project_submissions[0]"
   ]
  },
  {
   "cell_type": "code",
   "execution_count": 19,
   "metadata": {},
   "outputs": [
    {
     "data": {
      "text/plain": [
       "{'acct': '0',\n",
       " 'utc_date': '2015-01-09',\n",
       " 'num_courses_visited': '1.0',\n",
       " 'total_minutes_visited': '11.6793745',\n",
       " 'lessons_completed': '0.0',\n",
       " 'projects_completed': '0.0'}"
      ]
     },
     "execution_count": 19,
     "metadata": {},
     "output_type": "execute_result"
    }
   ],
   "source": [
    "daily_engagement[0]"
   ]
  },
  {
   "cell_type": "code",
   "execution_count": 20,
   "metadata": {},
   "outputs": [
    {
     "data": {
      "text/plain": [
       "{'creation_date': '2015-01-14',\n",
       " 'completion_date': '2015-01-16',\n",
       " 'assigned_rating': 'UNGRADED',\n",
       " 'account_key': '256',\n",
       " 'lesson_key': '3176718735',\n",
       " 'processing_state': 'EVALUATED'}"
      ]
     },
     "execution_count": 20,
     "metadata": {},
     "output_type": "execute_result"
    }
   ],
   "source": [
    "project_submissions[0]"
   ]
  },
  {
   "cell_type": "code",
   "execution_count": 21,
   "metadata": {},
   "outputs": [
    {
     "data": {
      "text/plain": [
       "{'creation_date': '2015-01-14',\n",
       " 'completion_date': '2015-01-16',\n",
       " 'assigned_rating': 'UNGRADED',\n",
       " 'account_key': '256',\n",
       " 'lesson_key': '3176718735',\n",
       " 'processing_state': 'EVALUATED'}"
      ]
     },
     "execution_count": 21,
     "metadata": {},
     "output_type": "execute_result"
    }
   ],
   "source": [
    "#make reader function file to make a work easier\n",
    "def read_csv(filename):\n",
    "    with open(filename,'rb') as f : \n",
    "        reader =unicodecsv.DictReader(f)\n",
    "        return list(reader)\n",
    "\n",
    "    \n",
    "    \n",
    "enrollments = read_csv(\"enrollments.csv\")\n",
    "\n",
    "\n",
    "\n",
    "daily_engagement= read_csv(\"daily_engagement.csv\")\n",
    "project_submissions= read_csv(\"project_submissions.csv\")\n",
    "\n",
    "daily_engagement[0]\n",
    "project_submissions[0]\n",
    "\n"
   ]
  },
  {
   "cell_type": "markdown",
   "metadata": {},
   "source": [
    "## Fixing Data Types"
   ]
  },
  {
   "cell_type": "code",
   "execution_count": 22,
   "metadata": {},
   "outputs": [
    {
     "data": {
      "text/plain": [
       "{'account_key': '448',\n",
       " 'status': 'canceled',\n",
       " 'join_date': datetime.datetime(2014, 11, 10, 0, 0),\n",
       " 'cancel_date': datetime.datetime(2015, 1, 14, 0, 0),\n",
       " 'days_to_cancel': 65,\n",
       " 'is_udacity': True,\n",
       " 'is_canceled': True}"
      ]
     },
     "execution_count": 22,
     "metadata": {},
     "output_type": "execute_result"
    }
   ],
   "source": [
    "from datetime import datetime as dt\n",
    "\n",
    "# Takes a date as a string, and returns a Python datetime object. \n",
    "# If there is no date given, returns None\n",
    "def parse_date(date):\n",
    "    if date == '':\n",
    "        return None\n",
    "    else:\n",
    "        return dt.strptime(date, '%Y-%m-%d')\n",
    "    \n",
    "# Takes a string which is either an empty string or represents an integer,\n",
    "# and returns an int or None.\n",
    "def parse_maybe_int(i):\n",
    "    if i == '':\n",
    "        return None\n",
    "    else:\n",
    "        return int(i)\n",
    "\n",
    "# Clean up the data types in the enrollments table\n",
    "for enrollment in enrollments:\n",
    "    enrollment['cancel_date'] = parse_date(enrollment['cancel_date'])\n",
    "    enrollment['days_to_cancel'] = parse_maybe_int(enrollment['days_to_cancel'])\n",
    "    enrollment['is_canceled'] = enrollment['is_canceled'] == 'True'\n",
    "    enrollment['is_udacity'] = enrollment['is_udacity'] == 'True'\n",
    "    enrollment['join_date'] = parse_date(enrollment['join_date'])\n",
    "    \n",
    "enrollments[0]"
   ]
  },
  {
   "cell_type": "code",
   "execution_count": 23,
   "metadata": {},
   "outputs": [
    {
     "data": {
      "text/plain": [
       "{'account_key': '448',\n",
       " 'status': 'current',\n",
       " 'join_date': datetime.datetime(2015, 3, 10, 0, 0),\n",
       " 'cancel_date': None,\n",
       " 'days_to_cancel': None,\n",
       " 'is_udacity': True,\n",
       " 'is_canceled': False}"
      ]
     },
     "execution_count": 23,
     "metadata": {},
     "output_type": "execute_result"
    }
   ],
   "source": [
    "enrollments[4]"
   ]
  },
  {
   "cell_type": "code",
   "execution_count": 24,
   "metadata": {},
   "outputs": [
    {
     "data": {
      "text/plain": [
       "{'acct': '0',\n",
       " 'utc_date': datetime.datetime(2015, 1, 9, 0, 0),\n",
       " 'num_courses_visited': 1,\n",
       " 'total_minutes_visited': 11.6793745,\n",
       " 'lessons_completed': 0,\n",
       " 'projects_completed': 0}"
      ]
     },
     "execution_count": 24,
     "metadata": {},
     "output_type": "execute_result"
    }
   ],
   "source": [
    "# Clean up the data types in the engagement table\n",
    "for engagement_record in daily_engagement:\n",
    "    engagement_record['lessons_completed'] = int(float(engagement_record['lessons_completed']))\n",
    "    engagement_record['num_courses_visited'] = int(float(engagement_record['num_courses_visited']))\n",
    "    engagement_record['projects_completed'] = int(float(engagement_record['projects_completed']))\n",
    "    engagement_record['total_minutes_visited'] = float(engagement_record['total_minutes_visited'])\n",
    "    engagement_record['utc_date'] = parse_date(engagement_record['utc_date'])\n",
    "    \n",
    "daily_engagement[0]"
   ]
  },
  {
   "cell_type": "code",
   "execution_count": 25,
   "metadata": {},
   "outputs": [
    {
     "data": {
      "text/plain": [
       "{'creation_date': datetime.datetime(2015, 1, 14, 0, 0),\n",
       " 'completion_date': datetime.datetime(2015, 1, 16, 0, 0),\n",
       " 'assigned_rating': 'UNGRADED',\n",
       " 'account_key': '256',\n",
       " 'lesson_key': '3176718735',\n",
       " 'processing_state': 'EVALUATED'}"
      ]
     },
     "execution_count": 25,
     "metadata": {},
     "output_type": "execute_result"
    }
   ],
   "source": [
    "# Clean up the data types in the submissions table\n",
    "for submission in project_submissions:\n",
    "    submission['completion_date'] = parse_date(submission['completion_date'])\n",
    "    submission['creation_date'] = parse_date(submission['creation_date'])\n",
    "\n",
    "project_submissions[0]"
   ]
  },
  {
   "cell_type": "markdown",
   "metadata": {},
   "source": [
    "## Investigating the Data"
   ]
  },
  {
   "cell_type": "code",
   "execution_count": 26,
   "metadata": {},
   "outputs": [],
   "source": [
    "#####################################\n",
    "#                 2                 #\n",
    "#####################################\n",
    "\n",
    "## Find the total number of rows and the number of unique students (account keys)\n",
    "## in each table."
   ]
  },
  {
   "cell_type": "code",
   "execution_count": 29,
   "metadata": {},
   "outputs": [],
   "source": [
    "import pandas as pd\n",
    "import numpy as np \n",
    "import matplotlib.pyplot as plt"
   ]
  },
  {
   "cell_type": "code",
   "execution_count": 30,
   "metadata": {},
   "outputs": [
    {
     "ename": "AttributeError",
     "evalue": "'list' object has no attribute 'head'",
     "output_type": "error",
     "traceback": [
      "\u001b[0;31m---------------------------------------------------------------------------\u001b[0m",
      "\u001b[0;31mAttributeError\u001b[0m                            Traceback (most recent call last)",
      "\u001b[0;32m<ipython-input-30-a9ecf1a563ec>\u001b[0m in \u001b[0;36m<module>\u001b[0;34m\u001b[0m\n\u001b[0;32m----> 1\u001b[0;31m \u001b[0menrollments\u001b[0m\u001b[0;34m.\u001b[0m\u001b[0mhead\u001b[0m\u001b[0;34m(\u001b[0m\u001b[0;34m)\u001b[0m  \u001b[0;31m#This is not a dataframe so I can't use head fuction or info module\u001b[0m\u001b[0;34m\u001b[0m\u001b[0;34m\u001b[0m\u001b[0m\n\u001b[0m",
      "\u001b[0;31mAttributeError\u001b[0m: 'list' object has no attribute 'head'"
     ]
    }
   ],
   "source": [
    "enrollments.head()  #This is not a dataframe so I can't use head fuction or info module"
   ]
  },
  {
   "cell_type": "code",
   "execution_count": 31,
   "metadata": {},
   "outputs": [],
   "source": [
    "#make dataframe function\n",
    "def change2DF(data):\n",
    "    return pd.DataFrame(data)"
   ]
  },
  {
   "cell_type": "code",
   "execution_count": 32,
   "metadata": {},
   "outputs": [],
   "source": [
    "enrollmentsDF = change2DF(enrollments)\n",
    "engagementDF   =change2DF(daily_engagement)\n",
    "project_subDF  =change2DF(project_submissions)"
   ]
  },
  {
   "cell_type": "code",
   "execution_count": 33,
   "metadata": {},
   "outputs": [
    {
     "name": "stdout",
     "output_type": "stream",
     "text": [
      "<class 'pandas.core.frame.DataFrame'>\n",
      "RangeIndex: 1640 entries, 0 to 1639\n",
      "Data columns (total 7 columns):\n",
      " #   Column          Non-Null Count  Dtype         \n",
      "---  ------          --------------  -----         \n",
      " 0   account_key     1640 non-null   object        \n",
      " 1   status          1640 non-null   object        \n",
      " 2   join_date       1640 non-null   datetime64[ns]\n",
      " 3   cancel_date     988 non-null    datetime64[ns]\n",
      " 4   days_to_cancel  988 non-null    float64       \n",
      " 5   is_udacity      1640 non-null   bool          \n",
      " 6   is_canceled     1640 non-null   bool          \n",
      "dtypes: bool(2), datetime64[ns](2), float64(1), object(2)\n",
      "memory usage: 67.4+ KB\n"
     ]
    }
   ],
   "source": [
    "enrollmentsDF.info()     # I can check total number by Rangeindex "
   ]
  },
  {
   "cell_type": "code",
   "execution_count": 34,
   "metadata": {},
   "outputs": [
    {
     "data": {
      "text/html": [
       "<div>\n",
       "<style scoped>\n",
       "    .dataframe tbody tr th:only-of-type {\n",
       "        vertical-align: middle;\n",
       "    }\n",
       "\n",
       "    .dataframe tbody tr th {\n",
       "        vertical-align: top;\n",
       "    }\n",
       "\n",
       "    .dataframe thead th {\n",
       "        text-align: right;\n",
       "    }\n",
       "</style>\n",
       "<table border=\"1\" class=\"dataframe\">\n",
       "  <thead>\n",
       "    <tr style=\"text-align: right;\">\n",
       "      <th></th>\n",
       "      <th>account_key</th>\n",
       "      <th>status</th>\n",
       "      <th>join_date</th>\n",
       "      <th>cancel_date</th>\n",
       "      <th>days_to_cancel</th>\n",
       "      <th>is_udacity</th>\n",
       "      <th>is_canceled</th>\n",
       "    </tr>\n",
       "  </thead>\n",
       "  <tbody>\n",
       "    <tr>\n",
       "      <th>0</th>\n",
       "      <td>448</td>\n",
       "      <td>canceled</td>\n",
       "      <td>2014-11-10</td>\n",
       "      <td>2015-01-14</td>\n",
       "      <td>65.0</td>\n",
       "      <td>True</td>\n",
       "      <td>True</td>\n",
       "    </tr>\n",
       "    <tr>\n",
       "      <th>1</th>\n",
       "      <td>448</td>\n",
       "      <td>canceled</td>\n",
       "      <td>2014-11-05</td>\n",
       "      <td>2014-11-10</td>\n",
       "      <td>5.0</td>\n",
       "      <td>True</td>\n",
       "      <td>True</td>\n",
       "    </tr>\n",
       "    <tr>\n",
       "      <th>2</th>\n",
       "      <td>448</td>\n",
       "      <td>canceled</td>\n",
       "      <td>2015-01-27</td>\n",
       "      <td>2015-01-27</td>\n",
       "      <td>0.0</td>\n",
       "      <td>True</td>\n",
       "      <td>True</td>\n",
       "    </tr>\n",
       "    <tr>\n",
       "      <th>3</th>\n",
       "      <td>448</td>\n",
       "      <td>canceled</td>\n",
       "      <td>2014-11-10</td>\n",
       "      <td>2014-11-10</td>\n",
       "      <td>0.0</td>\n",
       "      <td>True</td>\n",
       "      <td>True</td>\n",
       "    </tr>\n",
       "    <tr>\n",
       "      <th>4</th>\n",
       "      <td>448</td>\n",
       "      <td>current</td>\n",
       "      <td>2015-03-10</td>\n",
       "      <td>NaT</td>\n",
       "      <td>NaN</td>\n",
       "      <td>True</td>\n",
       "      <td>False</td>\n",
       "    </tr>\n",
       "    <tr>\n",
       "      <th>...</th>\n",
       "      <td>...</td>\n",
       "      <td>...</td>\n",
       "      <td>...</td>\n",
       "      <td>...</td>\n",
       "      <td>...</td>\n",
       "      <td>...</td>\n",
       "      <td>...</td>\n",
       "    </tr>\n",
       "    <tr>\n",
       "      <th>1635</th>\n",
       "      <td>1176</td>\n",
       "      <td>current</td>\n",
       "      <td>2015-08-12</td>\n",
       "      <td>NaT</td>\n",
       "      <td>NaN</td>\n",
       "      <td>False</td>\n",
       "      <td>False</td>\n",
       "    </tr>\n",
       "    <tr>\n",
       "      <th>1636</th>\n",
       "      <td>1110</td>\n",
       "      <td>current</td>\n",
       "      <td>2015-08-13</td>\n",
       "      <td>NaT</td>\n",
       "      <td>NaN</td>\n",
       "      <td>False</td>\n",
       "      <td>False</td>\n",
       "    </tr>\n",
       "    <tr>\n",
       "      <th>1637</th>\n",
       "      <td>1116</td>\n",
       "      <td>canceled</td>\n",
       "      <td>2015-08-15</td>\n",
       "      <td>2015-08-18</td>\n",
       "      <td>3.0</td>\n",
       "      <td>False</td>\n",
       "      <td>True</td>\n",
       "    </tr>\n",
       "    <tr>\n",
       "      <th>1638</th>\n",
       "      <td>874</td>\n",
       "      <td>current</td>\n",
       "      <td>2015-08-22</td>\n",
       "      <td>NaT</td>\n",
       "      <td>NaN</td>\n",
       "      <td>False</td>\n",
       "      <td>False</td>\n",
       "    </tr>\n",
       "    <tr>\n",
       "      <th>1639</th>\n",
       "      <td>686</td>\n",
       "      <td>current</td>\n",
       "      <td>2015-08-23</td>\n",
       "      <td>NaT</td>\n",
       "      <td>NaN</td>\n",
       "      <td>False</td>\n",
       "      <td>False</td>\n",
       "    </tr>\n",
       "  </tbody>\n",
       "</table>\n",
       "<p>1640 rows × 7 columns</p>\n",
       "</div>"
      ],
      "text/plain": [
       "     account_key    status  join_date cancel_date  days_to_cancel  is_udacity  \\\n",
       "0            448  canceled 2014-11-10  2015-01-14            65.0        True   \n",
       "1            448  canceled 2014-11-05  2014-11-10             5.0        True   \n",
       "2            448  canceled 2015-01-27  2015-01-27             0.0        True   \n",
       "3            448  canceled 2014-11-10  2014-11-10             0.0        True   \n",
       "4            448   current 2015-03-10         NaT             NaN        True   \n",
       "...          ...       ...        ...         ...             ...         ...   \n",
       "1635        1176   current 2015-08-12         NaT             NaN       False   \n",
       "1636        1110   current 2015-08-13         NaT             NaN       False   \n",
       "1637        1116  canceled 2015-08-15  2015-08-18             3.0       False   \n",
       "1638         874   current 2015-08-22         NaT             NaN       False   \n",
       "1639         686   current 2015-08-23         NaT             NaN       False   \n",
       "\n",
       "      is_canceled  \n",
       "0            True  \n",
       "1            True  \n",
       "2            True  \n",
       "3            True  \n",
       "4           False  \n",
       "...           ...  \n",
       "1635        False  \n",
       "1636        False  \n",
       "1637         True  \n",
       "1638        False  \n",
       "1639        False  \n",
       "\n",
       "[1640 rows x 7 columns]"
      ]
     },
     "execution_count": 34,
     "metadata": {},
     "output_type": "execute_result"
    }
   ],
   "source": [
    "enrollmentsDF"
   ]
  },
  {
   "cell_type": "code",
   "execution_count": 35,
   "metadata": {},
   "outputs": [
    {
     "name": "stdout",
     "output_type": "stream",
     "text": [
      "<class 'pandas.core.frame.DataFrame'>\n",
      "RangeIndex: 136240 entries, 0 to 136239\n",
      "Data columns (total 6 columns):\n",
      " #   Column                 Non-Null Count   Dtype         \n",
      "---  ------                 --------------   -----         \n",
      " 0   acct                   136240 non-null  object        \n",
      " 1   utc_date               136240 non-null  datetime64[ns]\n",
      " 2   num_courses_visited    136240 non-null  int64         \n",
      " 3   total_minutes_visited  136240 non-null  float64       \n",
      " 4   lessons_completed      136240 non-null  int64         \n",
      " 5   projects_completed     136240 non-null  int64         \n",
      "dtypes: datetime64[ns](1), float64(1), int64(3), object(1)\n",
      "memory usage: 6.2+ MB\n",
      "<class 'pandas.core.frame.DataFrame'>\n",
      "RangeIndex: 3642 entries, 0 to 3641\n",
      "Data columns (total 6 columns):\n",
      " #   Column            Non-Null Count  Dtype         \n",
      "---  ------            --------------  -----         \n",
      " 0   creation_date     3642 non-null   datetime64[ns]\n",
      " 1   completion_date   3636 non-null   datetime64[ns]\n",
      " 2   assigned_rating   3642 non-null   object        \n",
      " 3   account_key       3642 non-null   object        \n",
      " 4   lesson_key        3642 non-null   object        \n",
      " 5   processing_state  3642 non-null   object        \n",
      "dtypes: datetime64[ns](2), object(4)\n",
      "memory usage: 170.8+ KB\n"
     ]
    }
   ],
   "source": [
    "engagementDF.info()\n",
    "project_subDF.info()"
   ]
  },
  {
   "cell_type": "code",
   "execution_count": 36,
   "metadata": {},
   "outputs": [
    {
     "data": {
      "text/plain": [
       "pandas.core.series.Series"
      ]
     },
     "execution_count": 36,
     "metadata": {},
     "output_type": "execute_result"
    }
   ],
   "source": [
    "enrollmentsDF['account_key'].dtypes #object\n",
    "type(enrollmentsDF['account_key'])   #series"
   ]
  },
  {
   "cell_type": "code",
   "execution_count": 37,
   "metadata": {},
   "outputs": [
    {
     "data": {
      "text/plain": [
       "dtype('int64')"
      ]
     },
     "execution_count": 37,
     "metadata": {},
     "output_type": "execute_result"
    }
   ],
   "source": [
    "enrollmentsDF['account_key'].astype({'account_key':'int'}).dtypes"
   ]
  },
  {
   "cell_type": "code",
   "execution_count": 38,
   "metadata": {},
   "outputs": [
    {
     "data": {
      "text/plain": [
       "dtype('O')"
      ]
     },
     "execution_count": 38,
     "metadata": {},
     "output_type": "execute_result"
    }
   ],
   "source": [
    "enrollmentsDF['account_key'].dtypes"
   ]
  },
  {
   "cell_type": "code",
   "execution_count": 39,
   "metadata": {},
   "outputs": [
    {
     "data": {
      "text/plain": [
       "array(['448', '448', '448', ..., '1116', '874', '686'], dtype=object)"
      ]
     },
     "execution_count": 39,
     "metadata": {},
     "output_type": "execute_result"
    }
   ],
   "source": [
    "enrollmentsDF['account_key'].values"
   ]
  },
  {
   "cell_type": "code",
   "execution_count": 40,
   "metadata": {
    "scrolled": true
   },
   "outputs": [
    {
     "ename": "TypeError",
     "evalue": "string indices must be integers",
     "output_type": "error",
     "traceback": [
      "\u001b[0;31m---------------------------------------------------------------------------\u001b[0m",
      "\u001b[0;31mTypeError\u001b[0m                                 Traceback (most recent call last)",
      "\u001b[0;32m<ipython-input-40-5b78ef637074>\u001b[0m in \u001b[0;36m<module>\u001b[0;34m\u001b[0m\n\u001b[1;32m      2\u001b[0m \u001b[0munique_enrolled_students\u001b[0m \u001b[0;34m=\u001b[0m\u001b[0mset\u001b[0m\u001b[0;34m(\u001b[0m\u001b[0;34m)\u001b[0m\u001b[0;34m\u001b[0m\u001b[0;34m\u001b[0m\u001b[0m\n\u001b[1;32m      3\u001b[0m \u001b[0;32mfor\u001b[0m \u001b[0menrollment\u001b[0m \u001b[0;32min\u001b[0m \u001b[0menrollmentsDF\u001b[0m\u001b[0;34m:\u001b[0m\u001b[0;34m\u001b[0m\u001b[0;34m\u001b[0m\u001b[0m\n\u001b[0;32m----> 4\u001b[0;31m     \u001b[0munique_enrolled_students\u001b[0m\u001b[0;34m.\u001b[0m\u001b[0madd\u001b[0m\u001b[0;34m(\u001b[0m\u001b[0mint\u001b[0m\u001b[0;34m(\u001b[0m\u001b[0menrollment\u001b[0m\u001b[0;34m[\u001b[0m\u001b[0;34m'account_key'\u001b[0m\u001b[0;34m]\u001b[0m\u001b[0;34m)\u001b[0m\u001b[0;34m)\u001b[0m\u001b[0;34m\u001b[0m\u001b[0;34m\u001b[0m\u001b[0m\n\u001b[0m",
      "\u001b[0;31mTypeError\u001b[0m: string indices must be integers"
     ]
    }
   ],
   "source": [
    "#count down unique keys\n",
    "unique_enrolled_students =set()\n",
    "for enrollment in enrollmentsDF:\n",
    "    unique_enrolled_students.add(int(enrollment['account_key']))"
   ]
  },
  {
   "cell_type": "code",
   "execution_count": 41,
   "metadata": {},
   "outputs": [
    {
     "ename": "TypeError",
     "evalue": "string indices must be integers",
     "output_type": "error",
     "traceback": [
      "\u001b[0;31m---------------------------------------------------------------------------\u001b[0m",
      "\u001b[0;31mTypeError\u001b[0m                                 Traceback (most recent call last)",
      "\u001b[0;32m<ipython-input-41-10d07d97ba7b>\u001b[0m in \u001b[0;36m<module>\u001b[0;34m\u001b[0m\n\u001b[1;32m      2\u001b[0m \u001b[0munique_enrolled_students\u001b[0m \u001b[0;34m=\u001b[0m\u001b[0mset\u001b[0m\u001b[0;34m(\u001b[0m\u001b[0;34m)\u001b[0m\u001b[0;34m\u001b[0m\u001b[0;34m\u001b[0m\u001b[0m\n\u001b[1;32m      3\u001b[0m \u001b[0;32mfor\u001b[0m \u001b[0menrollment\u001b[0m \u001b[0;32min\u001b[0m \u001b[0menrollmentsDF\u001b[0m\u001b[0;34m:\u001b[0m\u001b[0;34m\u001b[0m\u001b[0;34m\u001b[0m\u001b[0m\n\u001b[0;32m----> 4\u001b[0;31m     \u001b[0munique_enrolled_students\u001b[0m\u001b[0;34m.\u001b[0m\u001b[0madd\u001b[0m\u001b[0;34m(\u001b[0m\u001b[0menrollment\u001b[0m\u001b[0;34m[\u001b[0m\u001b[0;34m'account_key'\u001b[0m\u001b[0;34m]\u001b[0m\u001b[0;34m.\u001b[0m\u001b[0mastype\u001b[0m\u001b[0;34m(\u001b[0m\u001b[0;34m{\u001b[0m\u001b[0;34m'account_key'\u001b[0m\u001b[0;34m:\u001b[0m\u001b[0;34m'int'\u001b[0m\u001b[0;34m}\u001b[0m\u001b[0;34m)\u001b[0m\u001b[0;34m)\u001b[0m\u001b[0;34m\u001b[0m\u001b[0;34m\u001b[0m\u001b[0m\n\u001b[0m",
      "\u001b[0;31mTypeError\u001b[0m: string indices must be integers"
     ]
    }
   ],
   "source": [
    "#count down unique key\n",
    "unique_enrolled_students =set()\n",
    "for enrollment in enrollmentsDF:\n",
    "    unique_enrolled_students.add(enrollment['account_key'].astype({'account_key':'int'}))"
   ]
  },
  {
   "cell_type": "code",
   "execution_count": 42,
   "metadata": {},
   "outputs": [
    {
     "data": {
      "text/plain": [
       "1302"
      ]
     },
     "execution_count": 42,
     "metadata": {},
     "output_type": "execute_result"
    }
   ],
   "source": [
    "#count down unique key\n",
    "unique_enrolled_students =set()\n",
    "for enrollment in enrollmentsDF[\"account_key\"]:\n",
    "    unique_enrolled_students.add(enrollment)\n",
    "len(unique_enrolled_students)"
   ]
  },
  {
   "cell_type": "code",
   "execution_count": 43,
   "metadata": {},
   "outputs": [
    {
     "data": {
      "text/plain": [
       "{'1160',\n",
       " '401',\n",
       " '1212',\n",
       " '10',\n",
       " '1297',\n",
       " '863',\n",
       " '426',\n",
       " '562',\n",
       " '133',\n",
       " '495',\n",
       " '1249',\n",
       " '1104',\n",
       " '148',\n",
       " '425',\n",
       " '1129',\n",
       " '542',\n",
       " '107',\n",
       " '220',\n",
       " '267',\n",
       " '1147',\n",
       " '733',\n",
       " '693',\n",
       " '352',\n",
       " '643',\n",
       " '369',\n",
       " '449',\n",
       " '612',\n",
       " '76',\n",
       " '64',\n",
       " '1202',\n",
       " '33',\n",
       " '833',\n",
       " '1037',\n",
       " '717',\n",
       " '1117',\n",
       " '854',\n",
       " '457',\n",
       " '1003',\n",
       " '665',\n",
       " '86',\n",
       " '993',\n",
       " '948',\n",
       " '584',\n",
       " '816',\n",
       " '682',\n",
       " '254',\n",
       " '1124',\n",
       " '298',\n",
       " '1119',\n",
       " '1135',\n",
       " '111',\n",
       " '287',\n",
       " '321',\n",
       " '1280',\n",
       " '151',\n",
       " '501',\n",
       " '657',\n",
       " '289',\n",
       " '18',\n",
       " '140',\n",
       " '954',\n",
       " '381',\n",
       " '828',\n",
       " '49',\n",
       " '653',\n",
       " '723',\n",
       " '142',\n",
       " '70',\n",
       " '843',\n",
       " '596',\n",
       " '971',\n",
       " '1289',\n",
       " '847',\n",
       " '545',\n",
       " '779',\n",
       " '213',\n",
       " '967',\n",
       " '497',\n",
       " '297',\n",
       " '446',\n",
       " '1255',\n",
       " '204',\n",
       " '419',\n",
       " '474',\n",
       " '345',\n",
       " '443',\n",
       " '984',\n",
       " '1225',\n",
       " '63',\n",
       " '52',\n",
       " '776',\n",
       " '61',\n",
       " '62',\n",
       " '403',\n",
       " '812',\n",
       " '529',\n",
       " '737',\n",
       " '691',\n",
       " '896',\n",
       " '942',\n",
       " '191',\n",
       " '72',\n",
       " '235',\n",
       " '639',\n",
       " '648',\n",
       " '696',\n",
       " '1193',\n",
       " '915',\n",
       " '1084',\n",
       " '11',\n",
       " '695',\n",
       " '466',\n",
       " '857',\n",
       " '720',\n",
       " '845',\n",
       " '424',\n",
       " '838',\n",
       " '1121',\n",
       " '348',\n",
       " '1201',\n",
       " '1168',\n",
       " '286',\n",
       " '522',\n",
       " '608',\n",
       " '484',\n",
       " '302',\n",
       " '670',\n",
       " '686',\n",
       " '830',\n",
       " '906',\n",
       " '589',\n",
       " '1301',\n",
       " '996',\n",
       " '968',\n",
       " '136',\n",
       " '493',\n",
       " '975',\n",
       " '520',\n",
       " '683',\n",
       " '599',\n",
       " '106',\n",
       " '1126',\n",
       " '478',\n",
       " '709',\n",
       " '192',\n",
       " '694',\n",
       " '161',\n",
       " '920',\n",
       " '209',\n",
       " '417',\n",
       " '620',\n",
       " '597',\n",
       " '922',\n",
       " '276',\n",
       " '1031',\n",
       " '515',\n",
       " '1303',\n",
       " '907',\n",
       " '748',\n",
       " '853',\n",
       " '99',\n",
       " '260',\n",
       " '577',\n",
       " '138',\n",
       " '544',\n",
       " '689',\n",
       " '405',\n",
       " '664',\n",
       " '181',\n",
       " '770',\n",
       " '650',\n",
       " '1245',\n",
       " '1300',\n",
       " '278',\n",
       " '462',\n",
       " '314',\n",
       " '1145',\n",
       " '671',\n",
       " '690',\n",
       " '789',\n",
       " '852',\n",
       " '382',\n",
       " '1011',\n",
       " '955',\n",
       " '858',\n",
       " '646',\n",
       " '732',\n",
       " '1275',\n",
       " '981',\n",
       " '121',\n",
       " '755',\n",
       " '1029',\n",
       " '358',\n",
       " '334',\n",
       " '162',\n",
       " '869',\n",
       " '811',\n",
       " '290',\n",
       " '31',\n",
       " '865',\n",
       " '697',\n",
       " '257',\n",
       " '825',\n",
       " '222',\n",
       " '57',\n",
       " '1161',\n",
       " '588',\n",
       " '592',\n",
       " '674',\n",
       " '637',\n",
       " '715',\n",
       " '1082',\n",
       " '503',\n",
       " '822',\n",
       " '1093',\n",
       " '878',\n",
       " '934',\n",
       " '1018',\n",
       " '1094',\n",
       " '372',\n",
       " '410',\n",
       " '1032',\n",
       " '68',\n",
       " '329',\n",
       " '92',\n",
       " '752',\n",
       " '943',\n",
       " '1179',\n",
       " '199',\n",
       " '804',\n",
       " '303',\n",
       " '980',\n",
       " '842',\n",
       " '787',\n",
       " '274',\n",
       " '1267',\n",
       " '364',\n",
       " '155',\n",
       " '88',\n",
       " '409',\n",
       " '315',\n",
       " '96',\n",
       " '408',\n",
       " '1190',\n",
       " '1166',\n",
       " '728',\n",
       " '807',\n",
       " '90',\n",
       " '123',\n",
       " '189',\n",
       " '1024',\n",
       " '1230',\n",
       " '945',\n",
       " '146',\n",
       " '947',\n",
       " '962',\n",
       " '16',\n",
       " '185',\n",
       " '1281',\n",
       " '930',\n",
       " '808',\n",
       " '731',\n",
       " '366',\n",
       " '1172',\n",
       " '253',\n",
       " '436',\n",
       " '1146',\n",
       " '1215',\n",
       " '805',\n",
       " '242',\n",
       " '624',\n",
       " '45',\n",
       " '558',\n",
       " '1194',\n",
       " '800',\n",
       " '163',\n",
       " '375',\n",
       " '6',\n",
       " '21',\n",
       " '824',\n",
       " '442',\n",
       " '1220',\n",
       " '1148',\n",
       " '606',\n",
       " '591',\n",
       " '380',\n",
       " '1197',\n",
       " '1033',\n",
       " '391',\n",
       " '729',\n",
       " '1195',\n",
       " '668',\n",
       " '296',\n",
       " '1056',\n",
       " '488',\n",
       " '73',\n",
       " '1086',\n",
       " '26',\n",
       " '109',\n",
       " '528',\n",
       " '34',\n",
       " '184',\n",
       " '1228',\n",
       " '1142',\n",
       " '1217',\n",
       " '1012',\n",
       " '461',\n",
       " '1237',\n",
       " '248',\n",
       " '1079',\n",
       " '216',\n",
       " '1273',\n",
       " '427',\n",
       " '739',\n",
       " '1178',\n",
       " '1284',\n",
       " '491',\n",
       " '514',\n",
       " '1181',\n",
       " '873',\n",
       " '277',\n",
       " '990',\n",
       " '20',\n",
       " '982',\n",
       " '757',\n",
       " '1233',\n",
       " '412',\n",
       " '836',\n",
       " '211',\n",
       " '716',\n",
       " '186',\n",
       " '978',\n",
       " '517',\n",
       " '523',\n",
       " '909',\n",
       " '430',\n",
       " '890',\n",
       " '935',\n",
       " '913',\n",
       " '48',\n",
       " '630',\n",
       " '71',\n",
       " '168',\n",
       " '486',\n",
       " '707',\n",
       " '995',\n",
       " '699',\n",
       " '323',\n",
       " '1198',\n",
       " '112',\n",
       " '1302',\n",
       " '1049',\n",
       " '341',\n",
       " '621',\n",
       " '60',\n",
       " '346',\n",
       " '1298',\n",
       " '1105',\n",
       " '1158',\n",
       " '835',\n",
       " '270',\n",
       " '678',\n",
       " '543',\n",
       " '110',\n",
       " '724',\n",
       " '1180',\n",
       " '631',\n",
       " '1060',\n",
       " '1078',\n",
       " '113',\n",
       " '784',\n",
       " '1050',\n",
       " '294',\n",
       " '860',\n",
       " '817',\n",
       " '1272',\n",
       " '791',\n",
       " '870',\n",
       " '1292',\n",
       " '1062',\n",
       " '751',\n",
       " '1137',\n",
       " '944',\n",
       " '607',\n",
       " '385',\n",
       " '378',\n",
       " '1036',\n",
       " '918',\n",
       " '178',\n",
       " '360',\n",
       " '1211',\n",
       " '1103',\n",
       " '311',\n",
       " '992',\n",
       " '788',\n",
       " '560',\n",
       " '208',\n",
       " '190',\n",
       " '182',\n",
       " '119',\n",
       " '1253',\n",
       " '711',\n",
       " '1130',\n",
       " '1176',\n",
       " '1150',\n",
       " '756',\n",
       " '1043',\n",
       " '1058',\n",
       " '432',\n",
       " '802',\n",
       " '872',\n",
       " '666',\n",
       " '116',\n",
       " '538',\n",
       " '406',\n",
       " '912',\n",
       " '301',\n",
       " '806',\n",
       " '320',\n",
       " '36',\n",
       " '994',\n",
       " '774',\n",
       " '1000',\n",
       " '143',\n",
       " '393',\n",
       " '827',\n",
       " '198',\n",
       " '539',\n",
       " '456',\n",
       " '249',\n",
       " '1081',\n",
       " '237',\n",
       " '377',\n",
       " '1234',\n",
       " '437',\n",
       " '826',\n",
       " '477',\n",
       " '1116',\n",
       " '956',\n",
       " '279',\n",
       " '1009',\n",
       " '680',\n",
       " '118',\n",
       " '1305',\n",
       " '1019',\n",
       " '799',\n",
       " '979',\n",
       " '357',\n",
       " '1113',\n",
       " '1296',\n",
       " '1059',\n",
       " '482',\n",
       " '914',\n",
       " '713',\n",
       " '908',\n",
       " '760',\n",
       " '1125',\n",
       " '39',\n",
       " '921',\n",
       " '1209',\n",
       " '781',\n",
       " '628',\n",
       " '883',\n",
       " '441',\n",
       " '263',\n",
       " '1045',\n",
       " '1023',\n",
       " '282',\n",
       " '1175',\n",
       " '154',\n",
       " '1261',\n",
       " '288',\n",
       " '490',\n",
       " '846',\n",
       " '480',\n",
       " '129',\n",
       " '887',\n",
       " '236',\n",
       " '176',\n",
       " '465',\n",
       " '966',\n",
       " '1141',\n",
       " '386',\n",
       " '1242',\n",
       " '373',\n",
       " '519',\n",
       " '431',\n",
       " '1277',\n",
       " '535',\n",
       " '130',\n",
       " '1235',\n",
       " '851',\n",
       " '1114',\n",
       " '389',\n",
       " '889',\n",
       " '356',\n",
       " '927',\n",
       " '710',\n",
       " '1171',\n",
       " '773',\n",
       " '692',\n",
       " '1002',\n",
       " '93',\n",
       " '1042',\n",
       " '1133',\n",
       " '1108',\n",
       " '509',\n",
       " '273',\n",
       " '141',\n",
       " '1110',\n",
       " '823',\n",
       " '587',\n",
       " '37',\n",
       " '1173',\n",
       " '376',\n",
       " '400',\n",
       " '1250',\n",
       " '963',\n",
       " '1270',\n",
       " '951',\n",
       " '310',\n",
       " '313',\n",
       " '420',\n",
       " '1266',\n",
       " '1252',\n",
       " '126',\n",
       " '932',\n",
       " '1092',\n",
       " '1285',\n",
       " '676',\n",
       " '374',\n",
       " '1162',\n",
       " '1057',\n",
       " '911',\n",
       " '69',\n",
       " '469',\n",
       " '239',\n",
       " '903',\n",
       " '632',\n",
       " '1075',\n",
       " '312',\n",
       " '35',\n",
       " '768',\n",
       " '42',\n",
       " '936',\n",
       " '619',\n",
       " '55',\n",
       " '1278',\n",
       " '988',\n",
       " '326',\n",
       " '1219',\n",
       " '120',\n",
       " '318',\n",
       " '555',\n",
       " '1207',\n",
       " '1186',\n",
       " '600',\n",
       " '727',\n",
       " '1',\n",
       " '508',\n",
       " '29',\n",
       " '960',\n",
       " '261',\n",
       " '1170',\n",
       " '576',\n",
       " '1107',\n",
       " '976',\n",
       " '593',\n",
       " '893',\n",
       " '337',\n",
       " '265',\n",
       " '51',\n",
       " '959',\n",
       " '0',\n",
       " '494',\n",
       " '1144',\n",
       " '268',\n",
       " '687',\n",
       " '379',\n",
       " '730',\n",
       " '950',\n",
       " '891',\n",
       " '1041',\n",
       " '200',\n",
       " '685',\n",
       " '614',\n",
       " '132',\n",
       " '22',\n",
       " '885',\n",
       " '583',\n",
       " '1236',\n",
       " '772',\n",
       " '848',\n",
       " '14',\n",
       " '937',\n",
       " '291',\n",
       " '743',\n",
       " '492',\n",
       " '573',\n",
       " '433',\n",
       " '328',\n",
       " '609',\n",
       " '464',\n",
       " '50',\n",
       " '458',\n",
       " '749',\n",
       " '819',\n",
       " '722',\n",
       " '201',\n",
       " '721',\n",
       " '304',\n",
       " '792',\n",
       " '336',\n",
       " '525',\n",
       " '844',\n",
       " '849',\n",
       " '483',\n",
       " '572',\n",
       " '25',\n",
       " '226',\n",
       " '511',\n",
       " '340',\n",
       " '233',\n",
       " '234',\n",
       " '617',\n",
       " '965',\n",
       " '859',\n",
       " '74',\n",
       " '137',\n",
       " '541',\n",
       " '1044',\n",
       " '1109',\n",
       " '145',\n",
       " '701',\n",
       " '259',\n",
       " '451',\n",
       " '368',\n",
       " '581',\n",
       " '343',\n",
       " '855',\n",
       " '924',\n",
       " '384',\n",
       " '210',\n",
       " '78',\n",
       " '180',\n",
       " '28',\n",
       " '272',\n",
       " '1100',\n",
       " '295',\n",
       " '349',\n",
       " '834',\n",
       " '1132',\n",
       " '241',\n",
       " '530',\n",
       " '256',\n",
       " '1262',\n",
       " '953',\n",
       " '1243',\n",
       " '1001',\n",
       " '512',\n",
       " '559',\n",
       " '414',\n",
       " '533',\n",
       " '1061',\n",
       " '1295',\n",
       " '1152',\n",
       " '1240',\n",
       " '280',\n",
       " '780',\n",
       " '473',\n",
       " '179',\n",
       " '1015',\n",
       " '453',\n",
       " '1088',\n",
       " '1046',\n",
       " '1007',\n",
       " '471',\n",
       " '736',\n",
       " '507',\n",
       " '1169',\n",
       " '652',\n",
       " '81',\n",
       " '102',\n",
       " '602',\n",
       " '264',\n",
       " '1294',\n",
       " '550',\n",
       " '1080',\n",
       " '158',\n",
       " '255',\n",
       " '987',\n",
       " '734',\n",
       " '67',\n",
       " '416',\n",
       " '1051',\n",
       " '938',\n",
       " '625',\n",
       " '892',\n",
       " '705',\n",
       " '986',\n",
       " '549',\n",
       " '815',\n",
       " '306',\n",
       " '841',\n",
       " '415',\n",
       " '659',\n",
       " '601',\n",
       " '998',\n",
       " '281',\n",
       " '224',\n",
       " '144',\n",
       " '1089',\n",
       " '880',\n",
       " '1224',\n",
       " '831',\n",
       " '452',\n",
       " '44',\n",
       " '985',\n",
       " '1199',\n",
       " '712',\n",
       " '964',\n",
       " '884',\n",
       " '232',\n",
       " '1218',\n",
       " '1098',\n",
       " '429',\n",
       " '344',\n",
       " '1239',\n",
       " '66',\n",
       " '139',\n",
       " '174',\n",
       " '309',\n",
       " '316',\n",
       " '660',\n",
       " '897',\n",
       " '125',\n",
       " '85',\n",
       " '1247',\n",
       " '1227',\n",
       " '284',\n",
       " '1154',\n",
       " '170',\n",
       " '308',\n",
       " '861',\n",
       " '604',\n",
       " '215',\n",
       " '565',\n",
       " '540',\n",
       " '813',\n",
       " '363',\n",
       " '586',\n",
       " '101',\n",
       " '547',\n",
       " '864',\n",
       " '636',\n",
       " '1165',\n",
       " '793',\n",
       " '1067',\n",
       " '605',\n",
       " '292',\n",
       " '38',\n",
       " '814',\n",
       " '173',\n",
       " '518',\n",
       " '1072',\n",
       " '521',\n",
       " '504',\n",
       " '803',\n",
       " '229',\n",
       " '165',\n",
       " '635',\n",
       " '392',\n",
       " '1241',\n",
       " '1087',\n",
       " '135',\n",
       " '673',\n",
       " '134',\n",
       " '640',\n",
       " '1206',\n",
       " '1293',\n",
       " '387',\n",
       " '13',\n",
       " '339',\n",
       " '742',\n",
       " '933',\n",
       " '1204',\n",
       " '972',\n",
       " '910',\n",
       " '300',\n",
       " '741',\n",
       " '997',\n",
       " '104',\n",
       " '59',\n",
       " '1187',\n",
       " '467',\n",
       " '662',\n",
       " '187',\n",
       " '735',\n",
       " '797',\n",
       " '778',\n",
       " '719',\n",
       " '820',\n",
       " '53',\n",
       " '1090',\n",
       " '122',\n",
       " '837',\n",
       " '1231',\n",
       " '100',\n",
       " '1074',\n",
       " '1188',\n",
       " '177',\n",
       " '582',\n",
       " '362',\n",
       " '1191',\n",
       " '1196',\n",
       " '1085',\n",
       " '767',\n",
       " '1065',\n",
       " '1106',\n",
       " '1259',\n",
       " '809',\n",
       " '1268',\n",
       " '83',\n",
       " '708',\n",
       " '899',\n",
       " '27',\n",
       " '1221',\n",
       " '585',\n",
       " '763',\n",
       " '230',\n",
       " '156',\n",
       " '700',\n",
       " '1260',\n",
       " '1102',\n",
       " '568',\n",
       " '468',\n",
       " '566',\n",
       " '361',\n",
       " '7',\n",
       " '128',\n",
       " '422',\n",
       " '661',\n",
       " '448',\n",
       " '561',\n",
       " '1214',\n",
       " '977',\n",
       " '879',\n",
       " '498',\n",
       " '786',\n",
       " '629',\n",
       " '1025',\n",
       " '821',\n",
       " '262',\n",
       " '65',\n",
       " '548',\n",
       " '231',\n",
       " '769',\n",
       " '1269',\n",
       " '342',\n",
       " '925',\n",
       " '1226',\n",
       " '796',\n",
       " '1073',\n",
       " '175',\n",
       " '1216',\n",
       " '472',\n",
       " '1101',\n",
       " '1134',\n",
       " '1213',\n",
       " '4',\n",
       " '1115',\n",
       " '1276',\n",
       " '714',\n",
       " '390',\n",
       " '698',\n",
       " '888',\n",
       " '347',\n",
       " '564',\n",
       " '30',\n",
       " '744',\n",
       " '1265',\n",
       " '745',\n",
       " '790',\n",
       " '160',\n",
       " '1055',\n",
       " '1208',\n",
       " '761',\n",
       " '212',\n",
       " '1156',\n",
       " '324',\n",
       " '1118',\n",
       " '459',\n",
       " '881',\n",
       " '1054',\n",
       " '105',\n",
       " '418',\n",
       " '1069',\n",
       " '127',\n",
       " '1283',\n",
       " '651',\n",
       " '531',\n",
       " '595',\n",
       " '398',\n",
       " '940',\n",
       " '221',\n",
       " '266',\n",
       " '895',\n",
       " '877',\n",
       " '973',\n",
       " '94',\n",
       " '1185',\n",
       " '307',\n",
       " '333',\n",
       " '202',\n",
       " '989',\n",
       " '876',\n",
       " '1223',\n",
       " '460',\n",
       " '355',\n",
       " '299',\n",
       " '1053',\n",
       " '238',\n",
       " '546',\n",
       " '1264',\n",
       " '634',\n",
       " '904',\n",
       " '1022',\n",
       " '89',\n",
       " '970',\n",
       " '82',\n",
       " '762',\n",
       " '167',\n",
       " '305',\n",
       " '623',\n",
       " '569',\n",
       " '218',\n",
       " '1136',\n",
       " '367',\n",
       " '115',\n",
       " '513',\n",
       " '1030',\n",
       " '164',\n",
       " '1091',\n",
       " '616',\n",
       " '649',\n",
       " '740',\n",
       " '353',\n",
       " '1159',\n",
       " '203',\n",
       " '610',\n",
       " '1040',\n",
       " '675',\n",
       " '149',\n",
       " '758',\n",
       " '293',\n",
       " '1016',\n",
       " '537',\n",
       " '574',\n",
       " '1210',\n",
       " '394',\n",
       " '603',\n",
       " '1014',\n",
       " '1167',\n",
       " '969',\n",
       " '193',\n",
       " '1020',\n",
       " '147',\n",
       " '487',\n",
       " '228',\n",
       " '450',\n",
       " '983',\n",
       " '1052',\n",
       " '1099',\n",
       " '1287',\n",
       " '1182',\n",
       " '923',\n",
       " '1083',\n",
       " '219',\n",
       " '131',\n",
       " '1028',\n",
       " '354',\n",
       " '919',\n",
       " '283',\n",
       " '435',\n",
       " '439',\n",
       " '1077',\n",
       " '434',\n",
       " '455',\n",
       " '1274',\n",
       " '183',\n",
       " '579',\n",
       " '9',\n",
       " '47',\n",
       " '931',\n",
       " '159',\n",
       " '1254',\n",
       " '667',\n",
       " '929',\n",
       " '1149',\n",
       " '642',\n",
       " ...}"
      ]
     },
     "execution_count": 43,
     "metadata": {},
     "output_type": "execute_result"
    }
   ],
   "source": [
    "unique_enrolled_students"
   ]
  },
  {
   "cell_type": "code",
   "execution_count": 44,
   "metadata": {},
   "outputs": [],
   "source": [
    "#acct - daily engagement \n",
    "#account_key proj_submisssions\n",
    "\n",
    "unique_engagement_students =set()\n",
    "for engagement in engagementDF[\"acct\"]:\n",
    "    unique_engagement_students.add(engagement)\n",
    "\n",
    "unique_proj_students =set()\n",
    "for proj in project_subDF[\"account_key\"]:\n",
    "    unique_proj_students.add(proj)"
   ]
  },
  {
   "cell_type": "code",
   "execution_count": 45,
   "metadata": {},
   "outputs": [
    {
     "name": "stdout",
     "output_type": "stream",
     "text": [
      "1237\n",
      "743\n"
     ]
    }
   ],
   "source": [
    "print(len(unique_engagement_students))                   \n",
    "print(len(unique_proj_students))"
   ]
  },
  {
   "cell_type": "markdown",
   "metadata": {},
   "source": [
    "## Problems in the Data"
   ]
  },
  {
   "cell_type": "code",
   "execution_count": 46,
   "metadata": {},
   "outputs": [],
   "source": [
    "#####################################\n",
    "#                 3                 #\n",
    "#####################################\n",
    "\n",
    "## Rename the \"acct\" column in the daily_engagement table to \"account_key\"."
   ]
  },
  {
   "cell_type": "markdown",
   "metadata": {},
   "source": [
    "IN Dataframeway"
   ]
  },
  {
   "cell_type": "code",
   "execution_count": 47,
   "metadata": {},
   "outputs": [
    {
     "data": {
      "text/html": [
       "<div>\n",
       "<style scoped>\n",
       "    .dataframe tbody tr th:only-of-type {\n",
       "        vertical-align: middle;\n",
       "    }\n",
       "\n",
       "    .dataframe tbody tr th {\n",
       "        vertical-align: top;\n",
       "    }\n",
       "\n",
       "    .dataframe thead th {\n",
       "        text-align: right;\n",
       "    }\n",
       "</style>\n",
       "<table border=\"1\" class=\"dataframe\">\n",
       "  <thead>\n",
       "    <tr style=\"text-align: right;\">\n",
       "      <th></th>\n",
       "      <th>account_key</th>\n",
       "      <th>utc_date</th>\n",
       "      <th>num_courses_visited</th>\n",
       "      <th>total_minutes_visited</th>\n",
       "      <th>lessons_completed</th>\n",
       "      <th>projects_completed</th>\n",
       "    </tr>\n",
       "  </thead>\n",
       "  <tbody>\n",
       "    <tr>\n",
       "      <th>0</th>\n",
       "      <td>0</td>\n",
       "      <td>2015-01-09</td>\n",
       "      <td>1</td>\n",
       "      <td>11.679374</td>\n",
       "      <td>0</td>\n",
       "      <td>0</td>\n",
       "    </tr>\n",
       "    <tr>\n",
       "      <th>1</th>\n",
       "      <td>0</td>\n",
       "      <td>2015-01-10</td>\n",
       "      <td>2</td>\n",
       "      <td>37.284887</td>\n",
       "      <td>0</td>\n",
       "      <td>0</td>\n",
       "    </tr>\n",
       "    <tr>\n",
       "      <th>2</th>\n",
       "      <td>0</td>\n",
       "      <td>2015-01-11</td>\n",
       "      <td>2</td>\n",
       "      <td>53.633746</td>\n",
       "      <td>0</td>\n",
       "      <td>0</td>\n",
       "    </tr>\n",
       "    <tr>\n",
       "      <th>3</th>\n",
       "      <td>0</td>\n",
       "      <td>2015-01-12</td>\n",
       "      <td>1</td>\n",
       "      <td>33.489270</td>\n",
       "      <td>0</td>\n",
       "      <td>0</td>\n",
       "    </tr>\n",
       "    <tr>\n",
       "      <th>4</th>\n",
       "      <td>0</td>\n",
       "      <td>2015-01-13</td>\n",
       "      <td>1</td>\n",
       "      <td>64.779678</td>\n",
       "      <td>0</td>\n",
       "      <td>0</td>\n",
       "    </tr>\n",
       "  </tbody>\n",
       "</table>\n",
       "</div>"
      ],
      "text/plain": [
       "  account_key   utc_date  num_courses_visited  total_minutes_visited  \\\n",
       "0           0 2015-01-09                    1              11.679374   \n",
       "1           0 2015-01-10                    2              37.284887   \n",
       "2           0 2015-01-11                    2              53.633746   \n",
       "3           0 2015-01-12                    1              33.489270   \n",
       "4           0 2015-01-13                    1              64.779678   \n",
       "\n",
       "   lessons_completed  projects_completed  \n",
       "0                  0                   0  \n",
       "1                  0                   0  \n",
       "2                  0                   0  \n",
       "3                  0                   0  \n",
       "4                  0                   0  "
      ]
     },
     "execution_count": 47,
     "metadata": {},
     "output_type": "execute_result"
    }
   ],
   "source": [
    "## wrong : engagementDF[\"acct\"] = engagementDF[\"ab\"] to rename\n",
    "##use : df.rename(columns = {'oldnm':'newnm'},index={'old':'new'},inplace = True)\n",
    "engagementDF.rename(columns={\"acct\":\"account_key\"},inplace = True)\n",
    "engagementDF.head()"
   ]
  },
  {
   "cell_type": "markdown",
   "metadata": {},
   "source": [
    "### IN argument Tableway (change data in Dictionary type)\n",
    ">it's impossible to rename keyvalue so we need to 'pop' out and putit new one"
   ]
  },
  {
   "cell_type": "code",
   "execution_count": 48,
   "metadata": {},
   "outputs": [
    {
     "data": {
      "text/plain": [
       "list"
      ]
     },
     "execution_count": 48,
     "metadata": {},
     "output_type": "execute_result"
    }
   ],
   "source": [
    "type(daily_engagement)"
   ]
  },
  {
   "cell_type": "code",
   "execution_count": 49,
   "metadata": {},
   "outputs": [
    {
     "ename": "TypeError",
     "evalue": "list indices must be integers or slices, not str",
     "output_type": "error",
     "traceback": [
      "\u001b[0;31m---------------------------------------------------------------------------\u001b[0m",
      "\u001b[0;31mTypeError\u001b[0m                                 Traceback (most recent call last)",
      "\u001b[0;32m<ipython-input-49-c35e2bdb95e2>\u001b[0m in \u001b[0;36m<module>\u001b[0;34m\u001b[0m\n\u001b[0;32m----> 1\u001b[0;31m \u001b[0mdaily_engagement\u001b[0m\u001b[0;34m[\u001b[0m\u001b[0;34m'account_key'\u001b[0m\u001b[0;34m]\u001b[0m \u001b[0;34m=\u001b[0m \u001b[0mdaily_engagement\u001b[0m\u001b[0;34m[\u001b[0m\u001b[0;34m'acct'\u001b[0m\u001b[0;34m]\u001b[0m\u001b[0;34m\u001b[0m\u001b[0;34m\u001b[0m\u001b[0m\n\u001b[0m\u001b[1;32m      2\u001b[0m \u001b[0;31m#list integers must be a integers\u001b[0m\u001b[0;34m\u001b[0m\u001b[0;34m\u001b[0m\u001b[0;34m\u001b[0m\u001b[0m\n",
      "\u001b[0;31mTypeError\u001b[0m: list indices must be integers or slices, not str"
     ]
    }
   ],
   "source": [
    "daily_engagement['account_key'] = daily_engagement['acct']\n",
    "#list integers must be a integers"
   ]
  },
  {
   "cell_type": "code",
   "execution_count": 50,
   "metadata": {},
   "outputs": [],
   "source": [
    "for engagement_record in daily_engagement:\n",
    "    engagement_record['account_key'] = engagement_record['acct']\n",
    "    del [engagement_record['acct']]"
   ]
  },
  {
   "cell_type": "code",
   "execution_count": 51,
   "metadata": {},
   "outputs": [
    {
     "name": "stdout",
     "output_type": "stream",
     "text": [
      "len of enrollments : 1640\n",
      "len of unique enrolled_students:1302\n",
      "len of daily engagement: 136240\n",
      "unique engagement students: 1237\n",
      "len of project_submissions: 3642\n",
      "len of inique project submiitters: 743\n"
     ]
    }
   ],
   "source": [
    "def get_unique_students(data):\n",
    "    unique_students = set()\n",
    "    for data_point in data:\n",
    "        unique_students.add(data_point['account_key'])\n",
    "    return unique_students\n",
    "print(\"len of enrollments : \"+ str(len(enrollments)))\n",
    "unique_enrolled_students = get_unique_students(enrollments)\n",
    "print(\"len of unique enrolled_students:\"+str(len(unique_enrolled_students)))\n",
    "print(\"len of daily engagement: \" + str(len(daily_engagement)))\n",
    "unique_engagement_students = get_unique_students(daily_engagement)\n",
    "print(\"unique engagement students: \"+str(len(unique_engagement_students)))\n",
    "print(\"len of project_submissions: \"+str(len(project_submissions)))\n",
    "unique_project_submitters = get_unique_students(project_submissions)\n",
    "print(\"len of inique project submiitters: \"+ str(len(unique_project_submitters)))"
   ]
  },
  {
   "cell_type": "markdown",
   "metadata": {},
   "source": [
    "## Missing Engagement Records"
   ]
  },
  {
   "cell_type": "code",
   "execution_count": 52,
   "metadata": {},
   "outputs": [],
   "source": [
    "#####################################\n",
    "#                 4                 #\n",
    "#####################################\n",
    "\n",
    "## Find any one student enrollments where the student is missing from the daily engagement table.\n",
    "## Output that enrollment.\n",
    "##using pyton breaak method"
   ]
  },
  {
   "cell_type": "code",
   "execution_count": 53,
   "metadata": {},
   "outputs": [
    {
     "data": {
      "text/plain": [
       "{'account_key': '448',\n",
       " 'status': 'canceled',\n",
       " 'join_date': datetime.datetime(2014, 11, 10, 0, 0),\n",
       " 'cancel_date': datetime.datetime(2015, 1, 14, 0, 0),\n",
       " 'days_to_cancel': 65,\n",
       " 'is_udacity': True,\n",
       " 'is_canceled': True}"
      ]
     },
     "execution_count": 53,
     "metadata": {},
     "output_type": "execute_result"
    }
   ],
   "source": [
    "enrollments[0]"
   ]
  },
  {
   "cell_type": "code",
   "execution_count": 54,
   "metadata": {},
   "outputs": [
    {
     "data": {
      "text/plain": [
       "'448'"
      ]
     },
     "execution_count": 54,
     "metadata": {},
     "output_type": "execute_result"
    }
   ],
   "source": [
    "enrollments[0]['account_key']"
   ]
  },
  {
   "cell_type": "code",
   "execution_count": 55,
   "metadata": {},
   "outputs": [
    {
     "ename": "TypeError",
     "evalue": "list indices must be integers or slices, not str",
     "output_type": "error",
     "traceback": [
      "\u001b[0;31m---------------------------------------------------------------------------\u001b[0m",
      "\u001b[0;31mTypeError\u001b[0m                                 Traceback (most recent call last)",
      "\u001b[0;32m<ipython-input-55-d8087ecdf016>\u001b[0m in \u001b[0;36m<module>\u001b[0;34m\u001b[0m\n\u001b[0;32m----> 1\u001b[0;31m \u001b[0menrollments\u001b[0m\u001b[0;34m[\u001b[0m\u001b[0;34m'account_key'\u001b[0m\u001b[0;34m]\u001b[0m\u001b[0;34m\u001b[0m\u001b[0;34m\u001b[0m\u001b[0m\n\u001b[0m",
      "\u001b[0;31mTypeError\u001b[0m: list indices must be integers or slices, not str"
     ]
    }
   ],
   "source": [
    "enrollments['account_key']"
   ]
  },
  {
   "cell_type": "code",
   "execution_count": 56,
   "metadata": {},
   "outputs": [
    {
     "name": "stdout",
     "output_type": "stream",
     "text": [
      "{'account_key': '1219', 'status': 'canceled', 'join_date': datetime.datetime(2014, 11, 12, 0, 0), 'cancel_date': datetime.datetime(2014, 11, 12, 0, 0), 'days_to_cancel': 0, 'is_udacity': False, 'is_canceled': True}\n"
     ]
    }
   ],
   "source": [
    "for enrollment in enrollments:\n",
    "    student = enrollment['account_key']\n",
    "    if student not in unique_engagement_students:\n",
    "        print( enrollment)\n",
    "        break\n"
   ]
  },
  {
   "cell_type": "markdown",
   "metadata": {},
   "source": [
    "## Checking for More Problem Records"
   ]
  },
  {
   "cell_type": "code",
   "execution_count": 57,
   "metadata": {},
   "outputs": [],
   "source": [
    "#####################################\n",
    "#                 5                 #\n",
    "#####################################\n",
    "\n",
    "## Find the number of surprising data points (enrollments missing from\n",
    "## the engagement table) that remain, if any."
   ]
  },
  {
   "cell_type": "code",
   "execution_count": 58,
   "metadata": {},
   "outputs": [
    {
     "name": "stdout",
     "output_type": "stream",
     "text": [
      "71\n"
     ]
    }
   ],
   "source": [
    "count = 0 ;\n",
    "for enrollment in enrollments:\n",
    "    student = enrollment['account_key']\n",
    "    if student not in unique_engagement_students:\n",
    "        count += 1\n",
    "        \n",
    "print(count)"
   ]
  },
  {
   "cell_type": "markdown",
   "metadata": {},
   "source": [
    "## 71 is the number of originally surprising data points \n",
    " that is, the number of enrollments with no corresponding engagement data. \n",
    " How many of those also stayed enrolled at least 1 day?"
   ]
  },
  {
   "cell_type": "code",
   "execution_count": 59,
   "metadata": {},
   "outputs": [
    {
     "data": {
      "text/plain": [
       "datetime.timedelta"
      ]
     },
     "execution_count": 59,
     "metadata": {},
     "output_type": "execute_result"
    }
   ],
   "source": [
    "sub1 = enrollments[0]['cancel_date'] - enrollments[0]['join_date']\n",
    "type(sub1)\n",
    "\n",
    "#wrong way to think we need a data of least 1day.\n",
    "\n",
    "#  sub = enrollment['cancel_date']-enrollments['join_date']\n",
    "#   if sub == 1:\n",
    "#       count +=1 >>>>>>>>>>>> not propre think more easy focus on data meaning "
   ]
  },
  {
   "cell_type": "code",
   "execution_count": 65,
   "metadata": {},
   "outputs": [
    {
     "data": {
      "text/plain": [
       "3"
      ]
     },
     "execution_count": 65,
     "metadata": {},
     "output_type": "execute_result"
    }
   ],
   "source": [
    "count = 0 \n",
    "\n",
    "for enrollment in enrollments:\n",
    "    student = enrollment['account_key']\n",
    "    if student not in unique_engagement_students \\\n",
    "    and enrollment['join_date'] != enrollment['cancel_date']:\n",
    "        count += 1\n",
    "\n",
    "count"
   ]
  },
  {
   "cell_type": "code",
   "execution_count": 67,
   "metadata": {},
   "outputs": [
    {
     "name": "stdout",
     "output_type": "stream",
     "text": [
      "{'account_key': '1304', 'status': 'canceled', 'join_date': datetime.datetime(2015, 1, 10, 0, 0), 'cancel_date': datetime.datetime(2015, 3, 10, 0, 0), 'days_to_cancel': 59, 'is_udacity': True, 'is_canceled': True}\n",
      "{'account_key': '1304', 'status': 'canceled', 'join_date': datetime.datetime(2015, 3, 10, 0, 0), 'cancel_date': datetime.datetime(2015, 6, 17, 0, 0), 'days_to_cancel': 99, 'is_udacity': True, 'is_canceled': True}\n",
      "{'account_key': '1101', 'status': 'current', 'join_date': datetime.datetime(2015, 2, 25, 0, 0), 'cancel_date': None, 'days_to_cancel': None, 'is_udacity': True, 'is_canceled': False}\n"
     ]
    },
    {
     "data": {
      "text/plain": [
       "3"
      ]
     },
     "execution_count": 67,
     "metadata": {},
     "output_type": "execute_result"
    }
   ],
   "source": [
    "count = 0 \n",
    "\n",
    "for enrollment in enrollments:\n",
    "    student = enrollment['account_key']\n",
    "    if student not in unique_engagement_students \\\n",
    "    and enrollment['join_date'] != enrollment['cancel_date']:\n",
    "        count += 1\n",
    "        print(enrollment)\n",
    "count"
   ]
  },
  {
   "cell_type": "markdown",
   "metadata": {},
   "source": [
    "## Tracking Down the Remaining Problems"
   ]
  },
  {
   "cell_type": "code",
   "execution_count": 68,
   "metadata": {},
   "outputs": [
    {
     "data": {
      "text/plain": [
       "6"
      ]
     },
     "execution_count": 68,
     "metadata": {},
     "output_type": "execute_result"
    }
   ],
   "source": [
    "# Create a set of the account keys for all Udacity test accounts\n",
    "udacity_test_accounts = set()\n",
    "for enrollment in enrollments:\n",
    "    if enrollment['is_udacity']:\n",
    "        udacity_test_accounts.add(enrollment['account_key'])\n",
    "len(udacity_test_accounts)"
   ]
  },
  {
   "cell_type": "code",
   "execution_count": 69,
   "metadata": {},
   "outputs": [],
   "source": [
    "# Given some data with an account_key field, removes any records corresponding to Udacity test accounts\n",
    "def remove_udacity_accounts(data):\n",
    "    non_udacity_data = []\n",
    "    for data_point in data:\n",
    "        if data_point['account_key'] not in udacity_test_accounts:\n",
    "            non_udacity_data.append(data_point)\n",
    "    return non_udacity_data"
   ]
  },
  {
   "cell_type": "code",
   "execution_count": 72,
   "metadata": {},
   "outputs": [
    {
     "name": "stdout",
     "output_type": "stream",
     "text": [
      "1622\n",
      "135656\n",
      "3634\n"
     ]
    }
   ],
   "source": [
    "# Remove Udacity test accounts from all three tables\n",
    "non_udacity_enrollments = remove_udacity_accounts(enrollments)\n",
    "non_udacity_engagement = remove_udacity_accounts(daily_engagement)\n",
    "non_udacity_submissions = remove_udacity_accounts(project_submissions)\n",
    "\n",
    "print(len(non_udacity_enrollments))\n",
    "print(len(non_udacity_engagement))\n",
    "print(len(non_udacity_submissions))"
   ]
  },
  {
   "cell_type": "markdown",
   "metadata": {},
   "source": [
    "## Refining the Question"
   ]
  },
  {
   "cell_type": "code",
   "execution_count": 73,
   "metadata": {},
   "outputs": [
    {
     "data": {
      "text/plain": [
       "995"
      ]
     },
     "execution_count": 73,
     "metadata": {},
     "output_type": "execute_result"
    }
   ],
   "source": [
    "#####################################\n",
    "#                 6                 #\n",
    "#####################################\n",
    "\n",
    "## Create a dictionary named paid_students containing all students who either\n",
    "## haven't canceled yet or who remained enrolled for more than 7 days. The keys\n",
    "## should be account keys, and the values should be the date the student enrolled.\n",
    "\n",
    "\n",
    "paid_students = {}\n",
    "\n",
    "for enrollment in non_udacity_enrollments:\n",
    "    if not enrollment['is_canceled'] or enrollment['days_to_cancel'] > 7 :\n",
    "        account_key = enrollment['account_key']\n",
    "        enrollment_date = enrollment['join_date']\n",
    "        paid_students[account_key] = enrollment_date\n",
    "    \n",
    "len(paid_students)"
   ]
  },
  {
   "cell_type": "markdown",
   "metadata": {},
   "source": [
    "#### Same student can enroll in multiple time"
   ]
  },
  {
   "cell_type": "code",
   "execution_count": null,
   "metadata": {},
   "outputs": [],
   "source": [
    "paid_students = {}\n",
    "\n",
    "for enrollment in non_udacity_enrollments:\n",
    "    if not enrollment['is_canceled'] or enrollment['days_to_cancel'] > 7 :\n",
    "        account_key = enrollment['account_key']\n",
    "        enrollment_date = enrollment['join_date']\n",
    "        paid_students[account_key] = enrollment_date\n",
    "\n",
    "        \n",
    "        \n",
    "    \n",
    "        \n",
    "        \n",
    "len(paid_students)"
   ]
  },
  {
   "cell_type": "markdown",
   "metadata": {},
   "source": [
    "## Getting Data from First Week"
   ]
  },
  {
   "cell_type": "code",
   "execution_count": null,
   "metadata": {
    "collapsed": true
   },
   "outputs": [],
   "source": [
    "# Takes a student's join date and the date of a specific engagement record,\n",
    "# and returns True if that engagement record happened within one week\n",
    "# of the student joining.\n",
    "def within_one_week(join_date, engagement_date):\n",
    "    time_delta = engagement_date - join_date\n",
    "    return time_delta.days < 7"
   ]
  },
  {
   "cell_type": "code",
   "execution_count": null,
   "metadata": {
    "collapsed": true
   },
   "outputs": [],
   "source": [
    "#####################################\n",
    "#                 7                 #\n",
    "#####################################\n",
    "\n",
    "## Create a list of rows from the engagement table including only rows where\n",
    "## the student is one of the paid students you just found, and the date is within\n",
    "## one week of the student's join date.\n",
    "\n",
    "paid_engagement_in_first_week = "
   ]
  },
  {
   "cell_type": "markdown",
   "metadata": {},
   "source": [
    "## Exploring Student Engagement"
   ]
  },
  {
   "cell_type": "code",
   "execution_count": null,
   "metadata": {
    "collapsed": true
   },
   "outputs": [],
   "source": [
    "from collections import defaultdict\n",
    "\n",
    "# Create a dictionary of engagement grouped by student.\n",
    "# The keys are account keys, and the values are lists of engagement records.\n",
    "engagement_by_account = defaultdict(list)\n",
    "for engagement_record in paid_engagement_in_first_week:\n",
    "    account_key = engagement_record['account_key']\n",
    "    engagement_by_account[account_key].append(engagement_record)"
   ]
  },
  {
   "cell_type": "code",
   "execution_count": null,
   "metadata": {
    "collapsed": true
   },
   "outputs": [],
   "source": [
    "# Create a dictionary with the total minutes each student spent in the classroom during the first week.\n",
    "# The keys are account keys, and the values are numbers (total minutes)\n",
    "total_minutes_by_account = {}\n",
    "for account_key, engagement_for_student in engagement_by_account.items():\n",
    "    total_minutes = 0\n",
    "    for engagement_record in engagement_for_student:\n",
    "        total_minutes += engagement_record['total_minutes_visited']\n",
    "    total_minutes_by_account[account_key] = total_minutes"
   ]
  },
  {
   "cell_type": "code",
   "execution_count": null,
   "metadata": {
    "collapsed": true
   },
   "outputs": [],
   "source": [
    "import numpy as np\n",
    "\n",
    "# Summarize the data about minutes spent in the classroom\n",
    "total_minutes = total_minutes_by_account.values()\n",
    "print 'Mean:', np.mean(total_minutes)\n",
    "print 'Standard deviation:', np.std(total_minutes)\n",
    "print 'Minimum:', np.min(total_minutes)\n",
    "print 'Maximum:', np.max(total_minutes)"
   ]
  },
  {
   "cell_type": "markdown",
   "metadata": {},
   "source": [
    "## Debugging Data Analysis Code"
   ]
  },
  {
   "cell_type": "code",
   "execution_count": null,
   "metadata": {
    "collapsed": true
   },
   "outputs": [],
   "source": [
    "#####################################\n",
    "#                 8                 #\n",
    "#####################################\n",
    "\n",
    "## Go through a similar process as before to see if there is a problem.\n",
    "## Locate at least one surprising piece of data, output it, and take a look at it."
   ]
  },
  {
   "cell_type": "markdown",
   "metadata": {},
   "source": [
    "## Lessons Completed in First Week"
   ]
  },
  {
   "cell_type": "code",
   "execution_count": null,
   "metadata": {
    "collapsed": true
   },
   "outputs": [],
   "source": [
    "#####################################\n",
    "#                 9                 #\n",
    "#####################################\n",
    "\n",
    "## Adapt the code above to find the mean, standard deviation, minimum, and maximum for\n",
    "## the number of lessons completed by each student during the first week. Try creating\n",
    "## one or more functions to re-use the code above."
   ]
  },
  {
   "cell_type": "markdown",
   "metadata": {},
   "source": [
    "## Number of Visits in First Week"
   ]
  },
  {
   "cell_type": "code",
   "execution_count": null,
   "metadata": {
    "collapsed": true
   },
   "outputs": [],
   "source": [
    "######################################\n",
    "#                 10                 #\n",
    "######################################\n",
    "\n",
    "## Find the mean, standard deviation, minimum, and maximum for the number of\n",
    "## days each student visits the classroom during the first week."
   ]
  },
  {
   "cell_type": "markdown",
   "metadata": {},
   "source": [
    "## Splitting out Passing Students"
   ]
  },
  {
   "cell_type": "code",
   "execution_count": null,
   "metadata": {
    "collapsed": true
   },
   "outputs": [],
   "source": [
    "######################################\n",
    "#                 11                 #\n",
    "######################################\n",
    "\n",
    "## Create two lists of engagement data for paid students in the first week.\n",
    "## The first list should contain data for students who eventually pass the\n",
    "## subway project, and the second list should contain data for students\n",
    "## who do not.\n",
    "\n",
    "subway_project_lesson_keys = ['746169184', '3176718735']\n",
    "\n",
    "passing_engagement =\n",
    "non_passing_engagement ="
   ]
  },
  {
   "cell_type": "markdown",
   "metadata": {},
   "source": [
    "## Comparing the Two Student Groups"
   ]
  },
  {
   "cell_type": "code",
   "execution_count": null,
   "metadata": {
    "collapsed": true
   },
   "outputs": [],
   "source": [
    "######################################\n",
    "#                 12                 #\n",
    "######################################\n",
    "\n",
    "## Compute some metrics you're interested in and see how they differ for\n",
    "## students who pass the subway project vs. students who don't. A good\n",
    "## starting point would be the metrics we looked at earlier (minutes spent\n",
    "## in the classroom, lessons completed, and days visited)."
   ]
  },
  {
   "cell_type": "markdown",
   "metadata": {},
   "source": [
    "## Making Histograms"
   ]
  },
  {
   "cell_type": "code",
   "execution_count": null,
   "metadata": {
    "collapsed": true
   },
   "outputs": [],
   "source": [
    "######################################\n",
    "#                 13                 #\n",
    "######################################\n",
    "\n",
    "## Make histograms of the three metrics we looked at earlier for both\n",
    "## students who passed the subway project and students who didn't. You\n",
    "## might also want to make histograms of any other metrics you examined."
   ]
  },
  {
   "cell_type": "markdown",
   "metadata": {},
   "source": [
    "## Improving Plots and Sharing Findings"
   ]
  },
  {
   "cell_type": "code",
   "execution_count": null,
   "metadata": {
    "collapsed": true
   },
   "outputs": [],
   "source": [
    "######################################\n",
    "#                 14                 #\n",
    "######################################\n",
    "\n",
    "## Make a more polished version of at least one of your visualizations\n",
    "## from earlier. Try importing the seaborn library to make the visualization\n",
    "## look better, adding axis labels and a title, and changing one or more\n",
    "## arguments to the hist() function."
   ]
  }
 ],
 "metadata": {
  "kernelspec": {
   "display_name": "Python 3",
   "language": "python",
   "name": "python3"
  },
  "language_info": {
   "codemirror_mode": {
    "name": "ipython",
    "version": 3
   },
   "file_extension": ".py",
   "mimetype": "text/x-python",
   "name": "python",
   "nbconvert_exporter": "python",
   "pygments_lexer": "ipython3",
   "version": "3.8.5"
  }
 },
 "nbformat": 4,
 "nbformat_minor": 1
}
